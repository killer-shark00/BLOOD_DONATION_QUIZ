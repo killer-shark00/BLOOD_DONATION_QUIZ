{
  "nbformat": 4,
  "nbformat_minor": 0,
  "metadata": {
    "colab": {
      "name": "20bcs023_ASHWANI_KUMAR_ASSIGNMENT-2.ipynb",
      "provenance": [],
      "collapsed_sections": [],
      "authorship_tag": "ABX9TyOqGgFmM1bW81j5xzSWyJx2",
      "include_colab_link": true
    },
    "kernelspec": {
      "name": "python3",
      "display_name": "Python 3"
    },
    "language_info": {
      "name": "python"
    }
  },
  "cells": [
    {
      "cell_type": "markdown",
      "metadata": {
        "id": "view-in-github",
        "colab_type": "text"
      },
      "source": [
        "<a href=\"https://colab.research.google.com/github/killer-shark00/OOP/blob/main/20bcs023_ASHWANI_KUMAR_ASSIGNMENT_2.ipynb\" target=\"_parent\"><img src=\"https://colab.research.google.com/assets/colab-badge.svg\" alt=\"Open In Colab\"/></a>"
      ]
    },
    {
      "cell_type": "markdown",
      "metadata": {
        "id": "vUCkvK1tCZps"
      },
      "source": [
        "### Q1"
      ]
    },
    {
      "cell_type": "code",
      "metadata": {
        "id": "vM5M0xurne31"
      },
      "source": [
        "class Circle:\n",
        "  def __init__(self,r):\n",
        "    self.radius = r\n",
        "  \n",
        "  def perimeter(self):\n",
        "    return 2*self.radius* 3.14\n",
        "\n",
        "  def area(self):\n",
        "    return 3.14* self.radius**2\n",
        "\n",
        "Newcircle = Circle(4)\n",
        "print(Newcircle.perimeter())\n",
        "print(Newcircle.area())"
      ],
      "execution_count": null,
      "outputs": []
    },
    {
      "cell_type": "markdown",
      "metadata": {
        "id": "Cew4wA7JCWTy"
      },
      "source": [
        "### Q2"
      ]
    },
    {
      "cell_type": "code",
      "metadata": {
        "id": "_UwlTz-6ne6o"
      },
      "source": [
        "class faculty:\n",
        "  def faculty_detail(self):\n",
        "    self.name = input(\"Enter faculty name:- \")\n",
        "    self.EmpID = input(\"Enter Employee ID:- \")\n",
        "    self.Branch = input(\"Branch:- CSE/ECE/DSAI:- \")\n",
        "    self.salary = int(input(\"enter salary:- \"))\n",
        "  def printDetails(self):\n",
        "    print( self.EmpID , \" \",  self.name ,self.Branch , self.salary)\n",
        "\n",
        "details = dict()\n",
        "n= int(input(\"Enter total number of employees:- \"))\n",
        "for i in range(0,n):\n",
        "  F1 = faculty()\n",
        "  EMP = F1.faculty_detail()\n",
        "  details.setdefault(EMP,F1)\n",
        "\n",
        "EMP = int(input(\"Enter EMPLOYEE'S ID you want to search:- \"))\n",
        "#F1 = details.get(EMP ,\"NOT FOUND\")\n",
        "if(isinstance(F1,faculty)):\n",
        "  F1.printDetails()\n",
        "else:\n",
        "  print(F1)"
      ],
      "execution_count": null,
      "outputs": []
    },
    {
      "cell_type": "markdown",
      "metadata": {
        "id": "XB_fRpW4CSJu"
      },
      "source": [
        "### Q3"
      ]
    },
    {
      "cell_type": "code",
      "metadata": {
        "id": "6oUei8-Gne9l",
        "colab": {
          "base_uri": "https://localhost:8080/"
        },
        "outputId": "45ca3faf-c735-4627-830f-3d7d325a31ae"
      },
      "source": [
        "class Account:\n",
        "  def __init__(self,Acc_no,name,balance):\n",
        "    self.Account_no = Acc_no\n",
        "    self.Account_holder = name\n",
        "    self.Amount = balance\n",
        "  def details(self):\n",
        "    print(\"Account Number:- \", self.Account_no)\n",
        "    print(\"Name:- \",self.Account_holder)\n",
        "  def balance(self):\n",
        "    print(\"Balance:- \",self.Amount)    \n",
        "  def deposit(self):\n",
        "    amount = float(input(\"Enter amount to be deposited:- \"))\n",
        "    self.Amount += amount\n",
        "    print(\"\\n Amount Deposited:- \", amount)\n",
        "  def withdraw(self):\n",
        "    amount = float(input(\"Enter amount to be withdrawn:- \"))\n",
        "    if self.Amount >= amount:\n",
        "      self.Amount -= amount\n",
        "      print(\"\\n You Withdrew:- \", amount)\n",
        "    else:\n",
        "      print(\"\\n Insufficient balance \")\n",
        "  def display(self):\n",
        "    print(\"\\n Net Available Balance:- \",self.Amount)\n",
        "\n",
        "a = Account(3456,'ravi',5000)\n",
        "a.details()\n",
        "a.balance()\n",
        "a.deposit()\n",
        "a.withdraw()\n",
        "a.display()"
      ],
      "execution_count": null,
      "outputs": [
        {
          "output_type": "stream",
          "name": "stdout",
          "text": [
            "Account Number:-  3456\n",
            "Name:-  ravi\n",
            "Balance:-  5000\n",
            "Enter amount to be deposited:- 5000\n",
            "\n",
            " Amount Deposited:-  5000.0\n",
            "Enter amount to be withdrawn:- 2980\n",
            "\n",
            " You Withdrew:-  2980.0\n",
            "\n",
            " Net Available Balance:-  7020.0\n"
          ]
        }
      ]
    },
    {
      "cell_type": "markdown",
      "metadata": {
        "id": "IC3CepdnCgX9"
      },
      "source": [
        "### Q4"
      ]
    },
    {
      "cell_type": "code",
      "metadata": {
        "id": "MfCL6OyBnfAw"
      },
      "source": [
        "class students:\n",
        "    t = 0\n",
        "    def __init__(self, name,UID):\n",
        "        self.name = name\n",
        "        self.UID = UID\n",
        "        self.marks = []\n",
        "        students.t = students.t + 1\n",
        "        \n",
        "    def enterMarks(self):\n",
        "        for i in range(3):\n",
        "            m = int(input(\"Enter the marks of %s in %d subject: \"%(self.name, i+1)))\n",
        "            self.marks.append(m)\n",
        "            \n",
        "    def display(self):\n",
        "        print (self.name, \"got \", self.marks)\n",
        "\n",
        "total=int(input(\"total no of students:- \"))\n",
        "for i in range(0,total):       \n",
        "  name = input(\"Enter the name of Student: \")\n",
        "  UID = input(\"Input UNIQUE ID:- \")\n",
        "  s1 = students(name,UID)\n",
        "  s1.enterMarks()\n",
        "  s1.display()\n",
        "  print (\"\")"
      ],
      "execution_count": null,
      "outputs": []
    },
    {
      "cell_type": "markdown",
      "metadata": {
        "id": "ex_oWMqeF0QH"
      },
      "source": [
        "### Q5"
      ]
    },
    {
      "cell_type": "code",
      "metadata": {
        "id": "fpdIgvXB4I-E",
        "colab": {
          "base_uri": "https://localhost:8080/"
        },
        "outputId": "fc3dcb4c-a5d5-41e7-85f3-51a78cbd79a4"
      },
      "source": [
        "class Corona_virus:\n",
        "  def __init__(self):\n",
        "    self.name =input(\"Name of Patient:- \")\n",
        "    self.DOA =input(\"Date of admission:- \")\n",
        "    self.oxy =int(input(\"oxygen level of patient:- \"))\n",
        "\n",
        "  def oxy_level(self):\n",
        "    if self.oxy < 90:\n",
        "      print(\"\\noxygen level less than 90\")\n",
        "      print(\"PUT HIM INTO OXYGEN SUPPORT!!\\n\")\n",
        "    else:\n",
        "      print(\"Move Him to GENERAL WARD\")\n",
        "\n",
        "  def sympotoms(self):\n",
        "    print(\"*********SYMPOTOMS*********\")\n",
        "    print(\"1.HIGH FEVER\")\n",
        "    print(\"2.BREATHLESSNESS\")\n",
        "    print(\"3.DRY COUGH\")\n",
        "    print(\"4.SNEEZING\")\n",
        "    temp=int(input(\"\\n\"))\n",
        "    if ((temp == 4 or temp == 3) and self.oxy < 90):\n",
        "      print(\"                    If patient shows atleast three sympotoms\\n \")\n",
        "      print(\"                    HIGH CHANCES OF COVID INFECTION!!!         \")\n",
        "      print(\"                    PUT HIM INTO OXYGEN SUPPORT AND SEVERE CASE \")\n",
        "    elif ((temp ==2 or temp == 1) and self.oxy > 90):\n",
        "      print(\"                    if patient shows DRY COUGH and sneezing  \")\n",
        "      print(\"                    move him to general ward                 \")\n",
        "    elif ((temp ==2 or temp == 1) and self.oxy <90):\n",
        "      print(\"                    PUT HIM INTO OXYGEN SUPPORT and observe \")\n",
        "      print(\"                    Can show Covid sympotoms                 \")\n",
        "\n",
        "\n",
        "a= Corona_virus()\n",
        "a.oxy_level()\n",
        "a.sympotoms()"
      ],
      "execution_count": null,
      "outputs": [
        {
          "output_type": "stream",
          "name": "stdout",
          "text": [
            "Name of Patient:- ashwani\n",
            "Date of admission:- 21/03/2001\n",
            "oxygen level of patient:- 45\n",
            "\n",
            "oxygen level less than 90\n",
            "PUT HIM INTO OXYGEN SUPPORT!!\n",
            "\n",
            "*********SYMPOTOMS*********\n",
            "1.HIGH FEVER\n",
            "2.BREATHLESSNESS\n",
            "3.DRY COUGH\n",
            "4.SNEEZING\n",
            "4\n",
            "                    If patient shows atleast three sympotoms\n",
            " \n",
            "                    HIGH CHANCES OF COVID INFECTION!!!         \n",
            "                    PUT HIM INTO OXYGEN SUPPORT AND SEVERE CASE \n"
          ]
        }
      ]
    },
    {
      "cell_type": "markdown",
      "metadata": {
        "id": "e1lrmJamxKj9"
      },
      "source": [
        "### Q6"
      ]
    },
    {
      "cell_type": "code",
      "metadata": {
        "id": "h5BZwMRU4I6q",
        "colab": {
          "base_uri": "https://localhost:8080/"
        },
        "outputId": "ce199cea-390c-4f5b-c747-61f88ebc1a3c"
      },
      "source": [
        "class Time:\n",
        "  def __init__(self):\n",
        "    self.hour = 0\n",
        "    self.min = 0\n",
        "    self.sec = 0\n",
        "  def time_input(self,hour,min,sec):\n",
        "    self.hour = hour\n",
        "    self.min = min\n",
        "    self.sec = sec\n",
        "  def display(self):\n",
        "    print(\"time is\", self.hour,\":\",self.min,\":\",self.sec)\n",
        "\n",
        "a = Time()\n",
        "a.time_input(12,45,45)\n",
        "a.display()"
      ],
      "execution_count": null,
      "outputs": [
        {
          "output_type": "stream",
          "name": "stdout",
          "text": [
            "time is 12 : 45 : 45\n"
          ]
        }
      ]
    },
    {
      "cell_type": "markdown",
      "metadata": {
        "id": "mVY9UGuL74ID"
      },
      "source": [
        "### Q7"
      ]
    },
    {
      "cell_type": "code",
      "metadata": {
        "id": "PfljwL5N4I3m",
        "colab": {
          "base_uri": "https://localhost:8080/"
        },
        "outputId": "64a58f0a-77fe-486a-d9a6-9dcb9d70426c"
      },
      "source": [
        "class Student:\n",
        "        def __init__(self):\n",
        "            self.name=input(\"Enter name of student1:- \")\n",
        "            self.age=input(\"Enter age of student1:- \")\n",
        "            self.rollno=input(\"enter the roll no of student1:- \")\n",
        "            self.name1=input(\"Enter name of student2:- \")\n",
        "            self.age1=input(\"Enter age of student2:- \")\n",
        "            self.rollno1=input(\"enter the roll no of student2:- \")\n",
        "        def compare_age(self):\n",
        "          if (self.age == self.age1):\n",
        "            print(\"Age are equal\")\n",
        "          else:\n",
        "            print(\"Ages are not equal\")\n",
        "\n",
        "a=Student()\n",
        "a.compare_age()\n"
      ],
      "execution_count": null,
      "outputs": [
        {
          "output_type": "stream",
          "name": "stdout",
          "text": [
            "Enter name of student1:- Rahul\n",
            "Enter age of student1:- 21\n",
            "enter the roll no of student1:- 33\n",
            "Enter name of student2:- Rohit,\n",
            "Enter age of student2:- 22\n",
            "enter the roll no of student2:- 74\n",
            "Ages are not equal\n"
          ]
        }
      ]
    },
    {
      "cell_type": "markdown",
      "metadata": {
        "id": "qyaZ5TAUBrRQ"
      },
      "source": [
        "### Q8"
      ]
    },
    {
      "cell_type": "code",
      "metadata": {
        "id": "_23x0Xmf4I0-",
        "colab": {
          "base_uri": "https://localhost:8080/"
        },
        "outputId": "aa9a097a-c19d-49d4-9b80-ddb7a4015c3c"
      },
      "source": [
        "class students:\n",
        "  sem = 0\n",
        "  Institute = \" \"\n",
        "  def __init__(self):\n",
        "    self.name = input(\"Enter student name:- \")\n",
        "    self.usn = input(\"Enter Unique Id:- \")\n",
        "  def instance_print(self):\n",
        "    print(self.name)\n",
        "    print(self.usn)\n",
        "  @classmethod\n",
        "  def class_print(obj):\n",
        "    print(obj.sem, obj.Institute2)\n",
        "    print()\n",
        "  @staticmethod\n",
        "  def static_print():\n",
        "    print(\" class student conatains sem and Institute as class variable, name and usn as istanstance variable\")\n",
        "\n",
        "a = students()\n",
        "a.instance_print()\n",
        "\n",
        "a.static_print()\n",
        "\n",
        "students.class_print = classmethod(students.class_print)\n",
        "\n",
        "\n"
      ],
      "execution_count": 10,
      "outputs": [
        {
          "output_type": "stream",
          "name": "stdout",
          "text": [
            "Enter student name:- Ashwani\n",
            "Enter Unique Id:- 20ncs023\n",
            "Ashwani\n",
            "20ncs023\n",
            " class student conatains sem and Institute as class variable, name and usn as istanstance variable\n"
          ]
        }
      ]
    },
    {
      "cell_type": "markdown",
      "metadata": {
        "id": "dUu3uqUPmavq"
      },
      "source": [
        "### Q9"
      ]
    },
    {
      "cell_type": "code",
      "metadata": {
        "id": "PQ-apSvp4Ix1",
        "colab": {
          "base_uri": "https://localhost:8080/"
        },
        "outputId": "d763725d-8601-4877-8b34-b80420b461fa"
      },
      "source": [
        "class student:\n",
        "  def __init__(self):\n",
        "    self.name=input(\"Enter name:- \")\n",
        "    self.rollno= input(\"Enter the roll number:- \")\n",
        "    self.sem = input(\"Enter semester:- \")\n",
        "    self.lapi = self.laptop()\n",
        "  def display(self):\n",
        "    print(self.name,\" \", self.rollno, \" \", self.sem)\n",
        "  class laptop():\n",
        "     def __init__(self):\n",
        "       self.ram = input(\"Enter RAM:- \")\n",
        "       self.cpu = input(\"Enter CPU Details:- \")\n",
        "       self.hard_disk = input(\"Enter Hard disk capacity:- \")\n",
        "     def show(self):\n",
        "         print(self.ram,\" \", self.cpu, \" \", self.hard_disk)\n",
        "\n",
        "outer = student()\n",
        "outer.display()\n",
        "\n",
        "inner = outer.lapi\n",
        "inner.show()"
      ],
      "execution_count": 18,
      "outputs": [
        {
          "output_type": "stream",
          "name": "stdout",
          "text": [
            "Enter name:- Ashwani\n",
            "Enter the roll number:- 20bcs023\n",
            "Enter semester:- 3\n",
            "Enter RAM:- 43\n",
            "Enter CPU Details:- cpu[\n",
            "Enter Hard disk capacity:- 32\n",
            "Ashwani   20bcs023   3\n",
            "43   cpu[   32\n"
          ]
        }
      ]
    }
  ]
}