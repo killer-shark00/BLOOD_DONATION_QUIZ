{
  "nbformat": 4,
  "nbformat_minor": 0,
  "metadata": {
    "colab": {
      "name": "Assignment-3.ipynb",
      "provenance": [],
      "authorship_tag": "ABX9TyN4QAf1V+aq8S35beXRaNTK",
      "include_colab_link": true
    },
    "kernelspec": {
      "name": "python3",
      "display_name": "Python 3"
    },
    "language_info": {
      "name": "python"
    }
  },
  "cells": [
    {
      "cell_type": "markdown",
      "metadata": {
        "id": "view-in-github",
        "colab_type": "text"
      },
      "source": [
        "<a href=\"https://colab.research.google.com/github/killer-shark00/OOP/blob/main/Assignment_3.ipynb\" target=\"_parent\"><img src=\"https://colab.research.google.com/assets/colab-badge.svg\" alt=\"Open In Colab\"/></a>"
      ]
    },
    {
      "cell_type": "markdown",
      "metadata": {
        "id": "pzQXOTut6Kyh"
      },
      "source": [
        "QUESTION-1\n",
        "LEAP YEAR "
      ]
    },
    {
      "cell_type": "code",
      "metadata": {
        "id": "oJJ1KAKI08Vj"
      },
      "source": [
        "def leapyear(year):\n",
        "  if (year % 4 == 0 or year % 400==0):\n",
        "    return True\n",
        "  elif (year % 100 == 0):\n",
        "    return False\n",
        "  else:\n",
        "    return False\n",
        "year = int(input(\"Enter year  \"))\n",
        "leapyear(year)"
      ],
      "execution_count": null,
      "outputs": []
    },
    {
      "cell_type": "markdown",
      "metadata": {
        "id": "1jE5PwUN6Rtv"
      },
      "source": [
        "QUESTION-2\n",
        "WEIRD ONE"
      ]
    },
    {
      "cell_type": "code",
      "metadata": {
        "colab": {
          "base_uri": "https://localhost:8080/"
        },
        "id": "qSw4olx74zX5",
        "outputId": "8eacb352-4ac3-46d0-b130-07d5d4cbd071"
      },
      "source": [
        "def Weirdone(number):\n",
        "  if ( number%2 != 0 or (number%2==0 and (number >= 6 and number <=20))):\n",
        "    print(\"WEIRD\")\n",
        "  elif ((number%2==0 and (number>=2 and number<=5)) or number>20 ):\n",
        "    print(\"NOT WEIRD\")\n",
        "number= int(input(\"enter the number:- \"))\n",
        "Weirdone(number)"
      ],
      "execution_count": null,
      "outputs": [
        {
          "output_type": "stream",
          "name": "stdout",
          "text": [
            "enter the number:- 8\n",
            "WEIRD\n"
          ]
        }
      ]
    },
    {
      "cell_type": "markdown",
      "metadata": {
        "id": "9ZE2VVb5_PGx"
      },
      "source": [
        "###                               OR"
      ]
    },
    {
      "cell_type": "code",
      "metadata": {
        "colab": {
          "base_uri": "https://localhost:8080/"
        },
        "id": "fBexG1vE8_0w",
        "outputId": "7e6dbab6-35ad-45ec-b873-e1874627b55b"
      },
      "source": [
        "def Weirdone1(num):\n",
        "  if (num%2==0):\n",
        "    if ((num>=2 and num<=5) | (num>20)):\n",
        "      print(\"Not Weird\")\n",
        "    elif (num >=6 and num<=20):\n",
        "      print(\"Weird\")\n",
        "  else:\n",
        "    print(\"Weird\")\n",
        "\n",
        "num=int(input(\"Enter the number:- \"))\n",
        "Weirdone1(num)"
      ],
      "execution_count": null,
      "outputs": [
        {
          "output_type": "stream",
          "name": "stdout",
          "text": [
            "Enter the number:- 4\n",
            "Not Weird\n"
          ]
        }
      ]
    },
    {
      "cell_type": "markdown",
      "metadata": {
        "id": "F9mD39fD6b2c"
      },
      "source": [
        "QUESTION-3\n",
        "    FASHINABLY LATE"
      ]
    },
    {
      "cell_type": "code",
      "metadata": {
        "id": "jM_sdLq86bes",
        "colab": {
          "base_uri": "https://localhost:8080/"
        },
        "outputId": "1415a8e2-0422-4db2-dd6e-1dcb209e8e3a"
      },
      "source": [
        "A=[]\n",
        "n=int(input(\"Enter number of elements:- \"))\n",
        "for j in range(0,n):\n",
        "  element=input(\"Enter elements of list A:- \")\n",
        "  A.append(element)\n",
        "print(A)\n",
        "mid=int((0+n)/2)\n",
        "for i in range(0,n):\n",
        "  if (i>(mid-1)) and A[i]!= A[-1]:\n",
        "    print(A[i], \"IS FASHIONABLY LATE\")\n",
        "print(A[-1], \"HAS GONE TOO FAR\")"
      ],
      "execution_count": null,
      "outputs": [
        {
          "output_type": "stream",
          "name": "stdout",
          "text": [
            "Enter number of elements:- 5\n",
            "Enter elements of list A:- A\n",
            "Enter elements of list A:- B\n",
            "Enter elements of list A:- C\n",
            "Enter elements of list A:- D\n",
            "Enter elements of list A:- E\n",
            "['A', 'B', 'C', 'D', 'E']\n",
            "C IS FASHIONABLY LATE\n",
            "D IS FASHIONABLY LATE\n",
            "E HAS GONE TOO FAR\n"
          ]
        }
      ]
    },
    {
      "cell_type": "markdown",
      "metadata": {
        "id": "xSP_CtWJ6eYi"
      },
      "source": [
        "QUESTION-4\n"
      ]
    },
    {
      "cell_type": "markdown",
      "metadata": {
        "id": "PYAqkgt6n0AE"
      },
      "source": [
        "### PLEASE HELP ME WITH THIS ERROR "
      ]
    },
    {
      "cell_type": "code",
      "metadata": {
        "id": "FdEobnkl1Img",
        "colab": {
          "base_uri": "https://localhost:8080/",
          "height": 235
        },
        "outputId": "0c6b6cfc-054e-495e-9fa9-f326e153a925"
      },
      "source": [
        "list1=[]\n",
        "n=int(input(\"Enter number of elements:- \"))\n",
        "for t in range(0,n):\n",
        "  element=input(\"Enter elements of list A:- \")\n",
        "  list1.append(element)\n",
        "print(list1)\n",
        "Search=input(\"Enter word to be searched:- \")\n",
        "List2=[]\n",
        "for i in list1:\n",
        "  for j,doc in enumerate(i):\n",
        "    for word in doc.replace(',','').replace('.','').split(' '):\n",
        "      if Search.lower() == word.lower():\n",
        "        List2.append(j)\n",
        "        break\n",
        "  return List2"
      ],
      "execution_count": 11,
      "outputs": [
        {
          "name": "stdout",
          "output_type": "stream",
          "text": [
            "Enter number of elements:- 3\n",
            "Enter elements of list A:- AS\n",
            "Enter elements of list A:- SAS\n",
            "Enter elements of list A:- SWAS\n",
            "['AS', 'SAS', 'SWAS']\n",
            "Enter word to be searched:- SWAS\n"
          ]
        },
        {
          "output_type": "error",
          "ename": "SyntaxError",
          "evalue": "ignored",
          "traceback": [
            "\u001b[0;36m  File \u001b[0;32m\"<ipython-input-11-d4f63a915745>\"\u001b[0;36m, line \u001b[0;32m15\u001b[0m\n\u001b[0;31m    return List2\u001b[0m\n\u001b[0m    ^\u001b[0m\n\u001b[0;31mSyntaxError\u001b[0m\u001b[0;31m:\u001b[0m 'return' outside function\n"
          ]
        }
      ]
    },
    {
      "cell_type": "markdown",
      "metadata": {
        "id": "jgGmx1Twn6s8"
      },
      "source": [
        "### OR"
      ]
    },
    {
      "cell_type": "code",
      "metadata": {
        "id": "P1d3VAD46d_a",
        "colab": {
          "base_uri": "https://localhost:8080/"
        },
        "outputId": "8c164db7-2f84-4616-b0ab-b984d92bf633"
      },
      "source": [
        "def word_search(doc_list, keywords):\n",
        "  Ls = []\n",
        "  for i, doc in enumerate(doc_list):\n",
        "    for word in doc.replace(',','').replace('.','').split(' '):\n",
        "      if keywords.lower() == word.lower():\n",
        "        Ls.append(i)\n",
        "        break\n",
        "  return Ls\n",
        "def multi_word_search(doc_list, keywords):\n",
        "  d = {}\n",
        "  for k in keywords:\n",
        "    d[k] = word_search(doc_list, k)\n",
        "    return d\n",
        "doc_list=input(\"Enter list:- \")\n",
        "keywords=input(\"Word to be searched:- \")\n",
        "multi_word_search(doc_list,keywords)"
      ],
      "execution_count": null,
      "outputs": [
        {
          "name": "stdout",
          "output_type": "stream",
          "text": [
            "Enter list:- learn python, rohit, india ,great lives\n",
            "Word to be searched:- python\n"
          ]
        },
        {
          "output_type": "execute_result",
          "data": {
            "text/plain": [
              "{'p': [6]}"
            ]
          },
          "metadata": {},
          "execution_count": 61
        }
      ]
    },
    {
      "cell_type": "markdown",
      "metadata": {
        "id": "nJrBPeKE6g5O"
      },
      "source": [
        "QUESTION-5"
      ]
    },
    {
      "cell_type": "code",
      "metadata": {
        "colab": {
          "base_uri": "https://localhost:8080/"
        },
        "id": "VIbE4Lhn6ghf",
        "outputId": "0fcd5111-7718-4146-e5ed-92b854557da5"
      },
      "source": [
        "def BASICPAY(pay):\n",
        "  pay= pay + (40/100)* pay + (20/100) * pay\n",
        "  print(\"GROSS PAY:- \" ,pay)\n",
        "pay=int(input(\"Enter Basic Pay:- \"))\n",
        "BASICPAY(pay)"
      ],
      "execution_count": null,
      "outputs": [
        {
          "output_type": "stream",
          "name": "stdout",
          "text": [
            "Enter Basic Pay:- 5046757\n",
            "GROSS PAY:-  8074811.2\n"
          ]
        }
      ]
    }
  ]
}